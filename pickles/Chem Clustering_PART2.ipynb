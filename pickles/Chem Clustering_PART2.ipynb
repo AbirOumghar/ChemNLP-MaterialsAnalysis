{
 "cells": [
  {
   "cell_type": "markdown",
   "id": "37fb92ee-5a53-4d00-a3ed-438341b7cadc",
   "metadata": {},
   "source": [
    "## Import the required libraries"
   ]
  },
  {
   "cell_type": "code",
   "execution_count": 1,
   "id": "bdbbadbe-4113-4699-a15d-c8ae86ee7439",
   "metadata": {},
   "outputs": [
    {
     "name": "stdout",
     "output_type": "stream",
     "text": [
      "WARNING:tensorflow:From C:\\Users\\ABIR°S ELITEBOOK\\AppData\\Roaming\\Python\\Python311\\site-packages\\keras\\src\\losses.py:2976: The name tf.losses.sparse_softmax_cross_entropy is deprecated. Please use tf.compat.v1.losses.sparse_softmax_cross_entropy instead.\n",
      "\n"
     ]
    }
   ],
   "source": [
    "# Suppress warnings for cleaner output\n",
    "import warnings\n",
    "warnings.filterwarnings('ignore')\n",
    "\n",
    "# For data processing\n",
    "import numpy as np\n",
    "import pandas as pd\n",
    "\n",
    "# For clustering and dimensionality reduction\n",
    "from sklearn.cluster import KMeans\n",
    "from sklearn.decomposition import PCA\n",
    "from sklearn.manifold import TSNE\n",
    "import umap.umap_ as umap\n",
    "from scipy.spatial.distance import cdist\n",
    "\n",
    "# Plotly imports\n",
    "import plotly.graph_objects as go\n",
    "from plotly.offline import plot\n",
    "\n",
    "# For Parallel Computing\n",
    "from joblib import Parallel, delayed\n",
    "\n",
    "# For evaluation and visualization\n",
    "import matplotlib.pyplot as plt\n",
    "from sklearn.metrics import silhouette_score, normalized_mutual_info_score\n",
    "from tqdm import tqdm\n",
    "import pickle"
   ]
  },
  {
   "cell_type": "markdown",
   "id": "dbd8a81d-46e2-473d-87ef-d88c3a9a9344",
   "metadata": {},
   "source": [
    "## Load the pickle files containing the Embeddings"
   ]
  },
  {
   "cell_type": "markdown",
   "id": "029bf384-dd0b-45c6-ab62-3c4ca3cc07a6",
   "metadata": {},
   "source": [
    "#### **Efficient Management of Large-Scale Embeddings via Segmentation Optimized Loading of Segmented Embeddings**"
   ]
  },
  {
   "cell_type": "markdown",
   "id": "c413e449-a082-4edb-935b-3eb4d5e64d9b",
   "metadata": {},
   "source": [
    "**Segmentation Strategy:** To manage the extensive volume of embeddings, the dataset is divided into five segments, enabling more efficient processing and handling within the constraints of system memory and computational resources.\n",
    "\n",
    "**Procedure Description:**\r\n",
    "Given the enormity of our dataset, direct extraction of embeddings for the entire set proved impractical. To circumvent this, we divided the embedding process into five distinct batches, each serialized into its pickle file. This modular approach not only mitigates memory overload but also introduces flexibility and scalability to the workflow.\r\n",
    "\r\n",
    "The code establishes a clear mapping of file paths to their respective dataset segments, followed by the load_dataset function, which efficiently retrieves the stored embeddings. Subsequently, each segment is loaded into its variable, ready to be amalgamated for dimensionality reduction.\r\n",
    "\r\n",
    "This careful planning and segmented processing exemplify an effective solution to the challenges posed by large datasets, ensuring that the subsequent steps, such as dimension reduction and clustering, are based on a complete and integrated set of data embeddings. This approach is particularly crucial in chemical research, where the richness of data must be preserved through every step of the analytical process.\n"
   ]
  },
  {
   "cell_type": "code",
   "execution_count": 3,
   "id": "8fba8ded-4a9d-4f26-938a-c26b37463436",
   "metadata": {},
   "outputs": [],
   "source": [
    "# Paths to the Embedding files\n",
    "datasets_paths = {\n",
    "    'cond_mat_embeddings_with_ids_5000':'cond_mat_embeddings_with_ids_5000.pickle',\n",
    "    'cond_mat_embeddings_with_ids_10000':'cond_mat_embeddings_with_ids_10000.pickle',\n",
    "    'cond_mat_embeddings_with_ids_16000': 'cond_mat_embeddings_with_ids_16000.pickle',\n",
    "    'cond_mat_embeddings_with_ids_16001_21000': 'cond_mat_embeddings_with_ids_16001_21000.pickle',\n",
    "    'cond_mat_embeddings_with_ids_21001_25000': 'cond_mat_embeddings_with_ids_21001_25000.pickle',\n",
    "}\n",
    "\n",
    "# Function to load a dataset\n",
    "def load_dataset(file_path):       #Systematic Loading\n",
    "    with open(file_path, 'rb') as file:\n",
    "        return pickle.load(file)\n",
    "\n",
    "# Load the datasets\n",
    "\n",
    "cond_mat_embeddings_with_ids_5000 = load_dataset(datasets_paths[\"cond_mat_embeddings_with_ids_5000\"])\n",
    "cond_mat_embeddings_with_ids_10000 = load_dataset(datasets_paths[\"cond_mat_embeddings_with_ids_10000\"])\n",
    "cond_mat_embeddings_with_ids_16000 = load_dataset(datasets_paths[\"cond_mat_embeddings_with_ids_16000\"])\n",
    "cond_mat_embeddings_with_ids_16001_21000 = load_dataset(datasets_paths[\"cond_mat_embeddings_with_ids_16001_21000\"])\n",
    "cond_mat_embeddings_with_ids_21001_25000 = load_dataset(datasets_paths[\"cond_mat_embeddings_with_ids_21001_25000\"])"
   ]
  },
  {
   "cell_type": "markdown",
   "id": "9458e886-75e3-4747-9d28-462491bdd6ea",
   "metadata": {},
   "source": [
    "## Analsye the Embeddings"
   ]
  },
  {
   "cell_type": "markdown",
   "id": "d5832a47-0fb7-491d-a765-c9daf70ecc0f",
   "metadata": {},
   "source": [
    "### **Consolidation and Analysis of Chemical Embedding Dimensions**\n",
    "\n",
    "Unifying Segmented Embedding Data\n",
    "\n",
    "Dataset Merging: The individual segments of embeddings are combined into a single merged list, facilitating holistic analysis.\n",
    "Dataset Overview: We compute and present a summary of the unified embeddings, detailing the number of documents and features.\n",
    "Analysis Description:\n",
    "Upon the successful segmentation and serialization of our embeddings, the next logical step involves the merging of these segmented data points to form a cohesive dataset. This merging is pivotal as it reintegrates the previously partitioned data, ensuring that our analysis is reflective of the dataset in its entirety.\n",
    "\n",
    "The code in question elegantly handles this task by concatenating the data lists from two segments, creating a merged dataset that retains all the embeddings. This unified dataset is then succinctly summarized to provide an overview; it reports that the dataset encompasses 8,998 documents, each represented by 768 features.\n",
    "\n",
    "This dimensional footprint of the embeddings, encapsulated by the 768 features, corresponds to the encoded linguistic and semantic characteristics captured by the BERT model. The number of documents signifies the breadth of the dataset now prepared for downstream tasks such as clustering or predictive modeling.\n",
    "\n",
    "By analyzing the size and shape of our embedding space, we lay the groundwork for understanding the complexity and variability within our corpus. This insight is crucial for guiding subsequent data-driven decisions, allowing us to tailor our modeling approaches to the specific contours of our chemical language dataset. The careful reassembly and analysis of the segmented embeddings ensure that we maintain the integrity and richness of the data as we progress towards more advanced stages of our study."
   ]
  },
  {
   "cell_type": "code",
   "execution_count": 16,
   "id": "220b0b2e-f01a-4948-b4e6-ca017ea37273",
   "metadata": {},
   "outputs": [],
   "source": [
    "# Merge the datasets\n",
    "merged_data_list = cond_mat_embeddings_with_ids_5000['data'] + cond_mat_embeddings_with_ids_10000['data'] + cond_mat_embeddings_with_ids_16000['data'] + cond_mat_embeddings_with_ids_16001_21000['data'] + cond_mat_embeddings_with_ids_21001_25000['data']  \n",
    "embeddings_data = {'data': merged_data_list}"
   ]
  },
  {
   "cell_type": "code",
   "execution_count": 17,
   "id": "a5b1a9e4-4d37-4c00-ab65-237d1a90e257",
   "metadata": {},
   "outputs": [
    {
     "name": "stdout",
     "output_type": "stream",
     "text": [
      ">> The Embedding Dataset has 24996 documents and 768 features.\n"
     ]
    }
   ],
   "source": [
    "# Print dataset information\n",
    "num_docs = len(embeddings_data['data'])\n",
    "num_features = len(embeddings_data['data'][0]['embedding'])\n",
    "print(f\">> The Embedding Dataset has {num_docs} documents and {num_features} features.\")"
   ]
  },
  {
   "cell_type": "markdown",
   "id": "f76f41db-1b89-4fb4-84de-5124683c35bb",
   "metadata": {},
   "source": [
    "## `Dimensionality Reduction` via PCA and `Clustering Analysis` with K-Means"
   ]
  },
  {
   "cell_type": "markdown",
   "id": "d9b22840-fa8d-4bb1-8e85-85dbc7375238",
   "metadata": {},
   "source": [
    "### Comprehensive Evaluation of PCA and K-Means on Chemical Abstracts Embeddings"
   ]
  },
  {
   "cell_type": "markdown",
   "id": "ab4ecae4-4aa2-47d7-aaa4-590f8d63f6cf",
   "metadata": {},
   "source": [
    "\n",
    "\r\n"
   ]
  },
  {
   "cell_type": "markdown",
   "id": "1a956e46-2069-4253-a932-2b4fe49f8741",
   "metadata": {},
   "source": [
    "- The aim is to reduce the dimensionality of the chemical abstracts embeddings to facilitate clustering analysis and enhance interpretability.\n",
    "\n",
    "- **PCA Implementation:** We deploy Principal Component Analysis (PCA) across a range of dimensions from 2 to 20 principal components` n_components_list = [i for i in range(1, 15)]` to identify the optimal feature subspace.\n",
    "\n",
    "-**K-Means Clustering:** Utilizing the true number of clusters, informed by the number of unique labels, we apply `K-means clustering` to the reduced embeddings to categorize the documents into meaningful groups.\n",
    "\n",
    "- **Evaluation Metrics:**\n",
    "\n",
    "`Normalized Mutual Information (NMI):` Serving as an external validation measure, NMI provides a comparative analysis between our clustering results and the ground truth labels.\n",
    "\n",
    "`Silhouette Score:` This metric guides the optimal choice of principal components by evaluating the cohesion and separation of the clusters formed at each level of dimensionality reduction.\n",
    "\n",
    "**Results Visualization:**\n",
    "\n",
    "We visualize the variance ratio explained by the principal components to understand the information retained post-reduction.\n",
    "\n",
    "Evaluation metrics such as Silhouette and NMI scores are plotted against the number of principal components to discern the optimal dimensionality for clustering."
   ]
  },
  {
   "cell_type": "code",
   "execution_count": 18,
   "id": "6e23e718-68ea-446c-b488-84a3efce4cbe",
   "metadata": {},
   "outputs": [],
   "source": [
    "def evaluate_pca_kmeans_metrics(dataset_name, embeddings, labels, n_components_list):\n",
    "    \"\"\"\n",
    "    Evaluate PCA and K-means clustering metrics.\n",
    "    \"\"\"\n",
    "    results = {\n",
    "        'n_components': [],\n",
    "        'silhouette_score': [],\n",
    "        'nmi_score': [],\n",
    "        'explained_variance_ratio': []\n",
    "    }\n",
    "    n_clusters = len(set(labels))\n",
    "    optimal_num_components = None\n",
    "    max_silhouette_score = -1\n",
    "    \n",
    "    for n_components in tqdm(n_components_list, desc=f'Evaluating PCA components fo the {dataset_name} dataset'):\n",
    "        # Apply PCA\n",
    "        pca = PCA(n_components=n_components)\n",
    "        reduced_data = pca.fit_transform(embeddings)\n",
    "        # Record the percentage of Explained Variance Ratio by the chosen number of components \n",
    "        explained_variance_ratio = np.sum(pca.explained_variance_ratio_)\n",
    "        \n",
    "        # Apply K-means using the real number of clusters (the labels)\n",
    "        kmeans = KMeans(n_clusters=n_clusters)\n",
    "        predicted_labels = kmeans.fit_predict(reduced_data)\n",
    "\n",
    "        # Calculate the Silhouette Score and the NMI Score\n",
    "        silhouette_avg = silhouette_score(reduced_data, predicted_labels) \n",
    "        nmi = normalized_mutual_info_score(labels, predicted_labels) \n",
    "\n",
    "        # Store the results in a dictionary\n",
    "        results['n_components'].append(n_components)\n",
    "        results['silhouette_score'].append(silhouette_avg)\n",
    "        results['nmi_score'].append(nmi)\n",
    "        results['explained_variance_ratio'].append(explained_variance_ratio)\n",
    "        \n",
    "        # Update the optimal number of components based on the silhouette score\n",
    "        if silhouette_avg > max_silhouette_score:\n",
    "            max_silhouette_score = silhouette_avg\n",
    "            optimal_num_components = n_components\n",
    "    \n",
    "    return pd.DataFrame(results)\n",
    "\n",
    "def plot_evaluation_metrics(df_results, dataset_name):\n",
    "    \"\"\"\n",
    "    Plot for evaluation metrics with vertical lines indicating optimal number of principal components.\n",
    "    \"\"\"\n",
    "    # Create a figure with 1 subplot for Silhouette and NMI, and another for Explained Variance Ratio\n",
    "    fig, (ax1, ax3) = plt.subplots(1, 2, figsize=(14, 7))\n",
    "\n",
    "    # Subplot for Silhouette and NMI scores\n",
    "    ax1.set_xlabel('Number of Principal Components')\n",
    "    ax1.set_ylabel('Score', color='tab:blue')\n",
    "    ax1.plot(df_results['n_components'], df_results['silhouette_score'], color='tab:blue', marker='o', label='Silhouette Score')\n",
    "    ax1.plot(df_results['n_components'], df_results['nmi_score'], color='tab:red', marker='x', label='NMI Score')\n",
    "    ax1.tick_params(axis='y', labelcolor='tab:blue')\n",
    "    ax1.set_xticks(df_results['n_components'])\n",
    "    ax1.legend(loc='upper left')\n",
    "    ax1.grid(True)\n",
    "\n",
    "    # Add vertical lines for optimal number of components based on Silhouette and NMI scores\n",
    "    optimal_n_components_silhouette = df_results.loc[df_results['silhouette_score'].idxmax(), 'n_components']\n",
    "    ax1.axvline(x=optimal_n_components_silhouette, color='tab:green', linestyle='--', label=f'Optimal PCs (Silhouette): {optimal_n_components_silhouette}', alpha=0.7)\n",
    "    optimal_n_nmi_score = df_results.loc[df_results['nmi_score'].idxmax(), 'n_components']\n",
    "    ax1.axvline(x=optimal_n_nmi_score, color='tab:orange', linestyle='--', label=f'Optimal PCs (NMI): {optimal_n_nmi_score}', alpha=0.7)\n",
    "\n",
    "    # Subplot for Explained Variance Ratio\n",
    "    ax3.set_xlabel('Number of Principal Components')\n",
    "    ax3.set_ylabel('Explained Variance Ratio', color='tab:green')\n",
    "    ax3.plot(df_results['n_components'], df_results['explained_variance_ratio'], color='tab:green', marker='^', label='Explained Variance Ratio')\n",
    "    ax3.tick_params(axis='y', labelcolor='tab:green')\n",
    "    ax3.set_xticks(df_results['n_components'])  # Ensure x-ticks correspond to the number of components tested\n",
    "    ax3.legend(loc='upper left')\n",
    "    ax3.grid(True)\n",
    "\n",
    "    # Add lines to the legend\n",
    "    ax1.legend(loc='upper left', bbox_to_anchor=(1, 1), title='Legend', title_fontsize='large')\n",
    "    plt.suptitle(f'Evaluation Metrics across Principal Components - {dataset_name}')\n",
    "    fig.tight_layout(rect=[0, 0.03, 1, 0.95])  # Adjust layout to make room for the title\n",
    "    plt.show()"
   ]
  },
  {
   "cell_type": "markdown",
   "id": "f7964a02-7706-4c57-8cc1-4dffa131f819",
   "metadata": {},
   "source": [
    "### Refinement and Assessment of Chemical Abstracts Embeddings via PCA\n",
    "#### Embedding Extraction and PCA Evaluation Process\n",
    "\n",
    "##### Procedure Steps:\n",
    "\n",
    "- **Data Extraction:** The embeddings and labels are first extracted from the embeddings_data dictionary, which houses the data in a structured format.\n",
    "\n",
    "- **Array Conversion:** The list of embeddings is then converted into a NumPy array, a format suitable for mathematical manipulation and input into machine learning algorithms.\n",
    "\n",
    "Principal Components Testing: We iterate over a range of principal components, from 1 to 14, to assess the impact of dimensionality reduction on clustering performance.\n",
    "\n",
    "##### Graphical Analysis and Metrics Interpretation:\n",
    "\n",
    "The accompanying plots illustrate how varying numbers of principal components affect the clustering metrics, such as Silhouette Score and Normalized Mutual Information (NMI), alongside the explained variance ratio.\n",
    "\n",
    "The Silhouette Score is depicted in blue, providing insights into the compactness and separation of clusters, with higher scores indicating better-defined clusters.\n",
    "\n",
    "**`The NMI Score`**, shown in red, measures the clustering outcome's alignment with the true class labels, with higher values suggesting greater accuracy.\n",
    "\n",
    "**`The Explained Variance Ratio`**, represented in green, indicates the proportion of dataset variance captured by each principal component count.\n",
    "\n",
    "Selection of Optimal Principal Components:\n",
    "\n",
    "**`Silhouette Score:`** Indicates that a lower number of principal components may lead to well-separated and distinct clusters.\n",
    "\n",
    "**`NMI Score:`** Suggests the number of components that achieve clustering most aligned with the true labels.\n",
    "\n",
    "**Decision Criterion:** The optimal number of principal components is chosen based on a balance between the Silhouette Score and the NMI, ensuring both well-defined cluster structures and alignment with true classifications.\n",
    "\n",
    "- **Conclusion:**\n",
    "\n",
    "The analysis provides a clear visual and quantitative guide to selecting the best number of principal components for clustering. It underscores the importance of dimensionality reduction in preparing high-dimensional embedding data for meaningful clustering, facilitating a deeper understanding of the dataset's inherent structure."
   ]
  },
  {
   "cell_type": "code",
   "execution_count": 19,
   "id": "26fb709c-b372-4a2c-9ab4-47a6eed2d3bc",
   "metadata": {},
   "outputs": [],
   "source": [
    "# Extract embeddings and labels from the embeddings_data dictionary\n",
    "embeddings_list = [item['embedding'] for item in embeddings_data['data']]  \n",
    "labels = [item['label'] for item in embeddings_data['data']]\n",
    "\n",
    "# Convert the embeddings list to a NumPy array\n",
    "embeddings = np.array(embeddings_list)\n",
    "\n",
    "# Define the dataset name\n",
    "dataset_name = 'Cond Mat'"
   ]
  },
  {
   "cell_type": "code",
   "execution_count": 20,
   "id": "f03c1c79-1fd9-4000-8c86-182e250bac55",
   "metadata": {
    "scrolled": true
   },
   "outputs": [
    {
     "name": "stderr",
     "output_type": "stream",
     "text": [
      "Evaluating PCA components fo the Cond Mat dataset: 100%|█| 14/14 [03:09<\n"
     ]
    },
    {
     "data": {
      "image/png": "[encoded data removed]",
      "text/plain": [
       "<Figure size 1400x700 with 2 Axes>"
      ]
     },
     "metadata": {},
     "output_type": "display_data"
    }
   ],
   "source": [
    "# List of Principal Components to test\n",
    "n_components_list = [i for i in range(1, 15)]\n",
    "df_results = evaluate_pca_kmeans_metrics(dataset_name, embeddings, labels, n_components_list)\n",
    "plot_evaluation_metrics(df_results, dataset_name)"
   ]
  },
  {
   "cell_type": "markdown",
   "id": "47e69b45-9b82-4bbf-8b42-9b96d1e184ba",
   "metadata": {},
   "source": [
    "#### Optimal Number of Principal Components Interpretation\r\n",
    "\r\n",
    "- **Silhouette Score**: Higher scores indicate that the clusters are well-separated and distinct.\r\n",
    "- **NMI Score**: Higher scores suggest clustering that aligns closely with the true labels.\r\n",
    "\r\n",
    "**Selection Criteria**:\r\n",
    "Opt for the number of components that optimally balance both metrics."
   ]
  },
  {
   "cell_type": "markdown",
   "id": "fd53cb2c-1835-4af6-9fea-3466e2e9f5b9",
   "metadata": {},
   "source": [
    "**Analysis and Insights:**\n",
    "\n",
    "The analysis reveals the trade-offs between dimensionality reduction and clustering quality. The optimal number of principal components is determined based on the silhouette score, which signifies the best-defined cluster structure.\n",
    "\n",
    "The NMI score complements this by indicating the level of agreement between the clustering assignments and the true classifications.\n",
    "\n",
    "rue classifications.\n",
    "\n",
    "Concluding Remarks:\n",
    "\n",
    "The PCA and K-Means clustering provide a two-pronged approach to structuring the high-dimensional embeddings space into a more accessible format that still preserves the underlying patterns and relationships.\n",
    "\n",
    "This step is critical in our pipeline as it directly impacts the clarity and usefulness of the clustering results, thereby enabling more precise interpretations and conclusions in our subsequent analysis of the chemical documents dataset.\n"
   ]
  },
  {
   "cell_type": "markdown",
   "id": "2a89acb4-4ca2-4b4b-8bf8-96e33cbbe363",
   "metadata": {},
   "source": [
    "## t-SNE for `Dimensionality Reduction` and K-means for `Clusting`\n",
    "\n",
    "\r\n",
    "In this step, we'll utilize **t-distributed Stochastic Neighbor Embedding (t-SNE)** to reduce the dimensionality of the datasets. We'll explore various values of **perplexity** and evaluate their impact. Perplexity directly influences cluster formation, thus selecting the optimal perplexity is crucial. To achieve this, we will experiment with different values and assess the performance using metrics such as **Normalized Mutual Information (NMI)** and **Silhouette score** plotted against perplexity. Additionally, we will visualize the resulting **2D clustering graph of the best t-SNE configuration found**."
   ]
  },
  {
   "cell_type": "code",
   "execution_count": 21,
   "id": "b8b2fbc0-7359-476c-98b8-7d57b07c894b",
   "metadata": {},
   "outputs": [],
   "source": [
    "# Perplexity values to test for t-SNE\n",
    "perplexities = [i for i in range(1, 10)]"
   ]
  },
  {
   "cell_type": "code",
   "execution_count": null,
   "id": "9c3d1f17-17eb-4e7d-9be2-fdb9b81d471f",
   "metadata": {},
   "outputs": [
    {
     "name": "stderr",
     "output_type": "stream",
     "text": [
      "Applying t-SNE on Cond Mat:  89%|█████▎| 8/9 [1:35:36<12:32, 752.32s/it]"
     ]
    }
   ],
   "source": [
    "# Dictionary to store the scores for the dataset\n",
    "dataset_scores = {}\n",
    "\n",
    "# Dictionary to store t-SNE results and K-means labels for the dataset\n",
    "tsne_results_list = {}\n",
    "kmeans_labels_list = {}\n",
    "\n",
    "# Extract embeddings and labels from the embeddings_data dictionary\n",
    "embeddings_list = [item['embedding'] for item in embeddings_data['data']]\n",
    "labels = [item['label'] for item in embeddings_data['data']]\n",
    "embeddings = np.array(embeddings_list)\n",
    "name = 'Cond Mat'\n",
    "\n",
    "# Initialize the scores dictionary\n",
    "dataset_scores[name] = {'perplexity': [], 'silhouette_score': [], 'nmi_score': []}\n",
    "\n",
    "# Initialize lists to store t-SNE results and K-means labels for each perplexity\n",
    "tsne_results_list[name] = []\n",
    "kmeans_labels_list[name] = []\n",
    "\n",
    "best_silhouette_score = -1\n",
    "best_perplexity = None\n",
    "best_tsne_result = None\n",
    "best_clustered_labels = None\n",
    "\n",
    "# tqdm is used here for a progress bar\n",
    "for perplexity in tqdm(perplexities, desc=f'Applying t-SNE on {name}'):\n",
    "    # Apply t-SNE\n",
    "    tsne = TSNE(n_components=2, perplexity=perplexity, n_iter=3000, random_state=42)\n",
    "    tsne_results = tsne.fit_transform(embeddings)\n",
    "    tsne_results_list[name].append(tsne_results)  # Store t-SNE results\n",
    "    \n",
    "    # Perform K-means clustering on the t-SNE results\n",
    "    kmeans = KMeans(n_clusters=len(set(labels)), random_state=42) # Apply K-means with the real label number\n",
    "    kmeans.fit(tsne_results)\n",
    "    clustered_labels = kmeans.labels_\n",
    "    kmeans_labels_list[name].append(clustered_labels)  # Store K-means labels\n",
    "    \n",
    "    # Calculate metrics: NMI and Silhouette\n",
    "    silhouette_avg = silhouette_score(tsne_results, clustered_labels)\n",
    "    nmi = normalized_mutual_info_score(labels, clustered_labels)\n",
    "    \n",
    "    # Update the best scores and results\n",
    "    if silhouette_avg > best_silhouette_score:\n",
    "        best_silhouette_score = silhouette_avg\n",
    "        best_perplexity = perplexity\n",
    "        best_tsne_result = tsne_results\n",
    "        best_clustered_labels = clustered_labels\n",
    "    \n",
    "    # Store the metrics\n",
    "    dataset_scores[name]['perplexity'].append(perplexity)\n",
    "    dataset_scores[name]['silhouette_score'].append(silhouette_avg)\n",
    "    dataset_scores[name]['nmi_score'].append(nmi)\n",
    "        \n",
    "# Create a figure with three subplots arranged horizontally\n",
    "fig, (ax1, ax2, ax3) = plt.subplots(1, 3, figsize=(30, 8))\n",
    "    \n",
    "# First subplot for the best t-SNE results based on silhouette score\n",
    "ax1.scatter(best_tsne_result[:, 0], best_tsne_result[:, 1], c=best_clustered_labels, cmap='viridis', marker='.')\n",
    "ax1.set_title(f'{name} Dataset - Best t-SNE with Perplexity {best_perplexity} (Silhouette Score: {best_silhouette_score})')\n",
    "\n",
    "# Second subplot for the metric evolution based on perplexity\n",
    "ax2.plot(dataset_scores[name]['perplexity'], dataset_scores[name]['silhouette_score'], 'o-', label='Silhouette Score')\n",
    "ax2.plot(dataset_scores[name]['perplexity'], dataset_scores[name]['nmi_score'], 's-', label='NMI Score')\n",
    "ax2.set_xlabel('Perplexity')\n",
    "ax2.set_ylabel('Score')\n",
    "ax2.set_title(f'{name} - Metric Evolution as a Function of Perplexity')\n",
    "ax2.legend()\n",
    "\n",
    "# Add horizontal lines for the optimal perplexities based on the Silhouette and NMI Scores\n",
    "best_silhouette_index = np.argmax(dataset_scores[name]['silhouette_score'])\n",
    "optimal_perplexity_silhouette_score = dataset_scores[name]['perplexity'][best_silhouette_index]\n",
    "ax2.axhline(y=max(dataset_scores[name]['silhouette_score']), color='r', linestyle='--', label=f'Optimal Perplexity (Silhouette Score): {optimal_perplexity_silhouette_score}')\n",
    "\n",
    "best_nmi_index = np.argmax(dataset_scores[name]['nmi_score'])\n",
    "optimal_perplexity_nmi_score = dataset_scores[name]['perplexity'][best_nmi_index]\n",
    "ax2.axhline(y=max(dataset_scores[name]['nmi_score']), color='g', linestyle='--', label=f'Optimal Perplexity (NMI Score): {optimal_perplexity_nmi_score}')\n",
    "ax2.legend()\n",
    "\n",
    "# Third subplot for the best t-SNE results based on NMI score\n",
    "ax3.scatter(tsne_results_list[name][best_nmi_index][:, 0], tsne_results_list[name][best_nmi_index][:, 1], c=kmeans_labels_list[name][best_nmi_index], cmap='viridis', marker='.')\n",
    "ax3.set_title(f'{name} Dataset - Best t-SNE with Perplexity {optimal_perplexity_nmi_score} (NMI Score: {max(dataset_scores[name][\"nmi_score\"])})')\n",
    "\n",
    "plt.tight_layout()\n",
    "plt.show()"
   ]
  },
  {
   "cell_type": "markdown",
   "id": "1e3ecf3e-4c2a-4fb7-8b3d-d99d8a782efc",
   "metadata": {},
   "source": [
    "### Visualize Clusters Using Optimal Parameters for PCA, UMAP and t-SNE"
   ]
  },
  {
   "cell_type": "code",
   "execution_count": null,
   "id": "5a1e0bf2-ec67-4ce0-9864-f0a0f54d0596",
   "metadata": {},
   "outputs": [],
   "source": [
    "embeddings_list = [item['embedding'] for item in embeddings_data['data']]\n",
    "labels = [item['label'] for item in embeddings_data['data']]\n",
    "embeddings = np.array(embeddings_list)\n",
    "\n",
    "# Unique labels and their mapping to integers for visualization\n",
    "unique_labels = np.unique(labels)\n",
    "label_to_int = {label: i for i, label in enumerate(unique_labels)}\n",
    "int_to_label = {i: label for label, i in label_to_int.items()}\n",
    "label_colors = [label_to_int[label] for label in labels]\n",
    "\n",
    "# Initialize PCA, t-SNE, and UMAP with 2 components each\n",
    "pca = PCA(n_components=2, random_state=42)\n",
    "tsne = TSNE(n_components=2, random_state=42, verbose=0)\n",
    "umap_reducer = umap.UMAP(n_components=2, random_state=42)\n",
    "\n",
    "# Apply dimensionality reduction\n",
    "reduced_embeddings_pca = pca.fit_transform(embeddings)\n",
    "reduced_embeddings_tsne = tsne.fit_transform(embeddings)\n",
    "reduced_embeddings_umap = umap_reducer.fit_transform(embeddings)\n",
    "\n",
    "# Number of unique clusters/classes\n",
    "n_clusters = len(unique_labels)\n",
    "\n",
    "# Apply K-means clustering for each reduced data\n",
    "kmeans_pca = KMeans(n_clusters=n_clusters, random_state=42).fit(reduced_embeddings_pca)\n",
    "kmeans_tsne = KMeans(n_clusters=n_clusters, random_state=42).fit(reduced_embeddings_tsne)\n",
    "kmeans_umap = KMeans(n_clusters=n_clusters, random_state=42).fit(reduced_embeddings_umap)\n",
    "\n",
    "# Creating subplots\n",
    "fig, axs = plt.subplots(1, 3, figsize=(24, 8))\n",
    "\n",
    "# Define a scatter plot function\n",
    "def scatter_plot(ax, reduced_embeddings, title, x_label, y_label, clusters):\n",
    "    for i, label in int_to_label.items():\n",
    "        ax.scatter(reduced_embeddings[clusters == i, 0], reduced_embeddings[clusters == i, 1], label=label, s=100)\n",
    "    ax.set_title(title)\n",
    "    ax.set_xlabel(x_label)\n",
    "    ax.set_ylabel(y_label)\n",
    "    ax.legend()\n",
    "\n",
    "# Plot each method's result\n",
    "scatter_plot(axs[0], reduced_embeddings_pca, 'PCA Reduced Embeddings with K-means Clustering', 'PCA Component 1', 'PCA Component 2', kmeans_pca.labels_)\n",
    "scatter_plot(axs[1], reduced_embeddings_tsne, 't-SNE Reduced Embeddings with K-means Clustering', 't-SNE Dimension 1', 't-SNE Dimension 2', kmeans_tsne.labels_)\n",
    "scatter_plot(axs[2], reduced_embeddings_umap, 'UMAP Reduced Embeddings with K-means Clustering', 'UMAP Dimension 1', 'UMAP Dimension 2', kmeans_umap.labels_)\n",
    "\n",
    "plt.tight_layout()\n",
    "plt.show()"
   ]
  },
  {
   "cell_type": "markdown",
   "id": "8f00513d-6f57-481f-b8df-2ee59d7ac12e",
   "metadata": {},
   "source": [
    "### 2D PCA Reduced Embeddings with K-means Clustering"
   ]
  },
  {
   "cell_type": "code",
   "execution_count": null,
   "id": "dbdbcb0f-36dd-43cd-85bf-c859b1f33e1c",
   "metadata": {},
   "outputs": [],
   "source": [
    "embeddings_list = [item['embedding'] for item in embeddings_data['data']]\n",
    "labels = [item['label'] for item in embeddings_data['data']]\n",
    "embeddings = np.array(embeddings_list)\n",
    "\n",
    "# Unique labels and their mapping to integers for visualization\n",
    "unique_labels = np.unique(labels)\n",
    "label_to_int = {label: i for i, label in enumerate(unique_labels)}\n",
    "int_to_label = {i: label for label, i in label_to_int.items()}\n",
    "label_colors = [label_to_int[label] for label in labels]\n",
    "\n",
    "# Apply PCA with 2 components for 2D visualization\n",
    "pca = PCA(n_components=2, random_state=42)\n",
    "reduced_embeddings_pca = pca.fit_transform(embeddings)\n",
    "\n",
    "# Apply K-means clustering for each reduced data\n",
    "kmeans_pca = KMeans(n_clusters=n_clusters, random_state=42).fit(reduced_embeddings_pca)\n",
    "\n",
    "# Plotting in 2D\n",
    "fig = go.Figure()\n",
    "\n",
    "# Add traces for each unique label\n",
    "for i, label in int_to_label.items():\n",
    "    indices = np.where(kmeans_pca.labels_ == i)[0]\n",
    "    fig.add_trace(go.Scatter(\n",
    "        x=reduced_embeddings_pca[indices, 0],\n",
    "        y=reduced_embeddings_pca[indices, 1],\n",
    "        mode='markers',\n",
    "        name=label,\n",
    "        marker=dict(size=5),\n",
    "        text=[f\"Label: {label}\" for _ in indices]  # Hover text\n",
    "    ))\n",
    "\n",
    "# Update layout for a better look in 2D\n",
    "fig.update_layout(\n",
    "    title='2D PCA Reduced Embeddings Visualization',\n",
    "    xaxis_title='PCA Component 1',\n",
    "    yaxis_title='PCA Component 2',\n",
    "    legend_title='Labels'\n",
    ")\n",
    "\n",
    "# Save the figure in the working directory\n",
    "plotly_filename = \"2D PCA Reduced Embeddings Visualization.html\"\n",
    "plot(fig, filename=plotly_filename)\n",
    "\n",
    "# Show the figure\n",
    "fig.show()"
   ]
  },
  {
   "cell_type": "markdown",
   "id": "79c52303-3682-42ec-a91f-e5bf9bfbc01f",
   "metadata": {},
   "source": [
    "### 3D PCA Reduced Embeddings with K-means Clustering"
   ]
  },
  {
   "cell_type": "code",
   "execution_count": null,
   "id": "945c3feb-3f42-484e-b2b1-f5c722c59c30",
   "metadata": {},
   "outputs": [],
   "source": [
    "# Assuming embeddings_data is already defined and contains your embeddings and labels\n",
    "embeddings_list = [item['embedding'] for item in embeddings_data['data']]\n",
    "labels = [item['label'] for item in embeddings_data['data']]\n",
    "embeddings = np.array(embeddings_list)\n",
    "\n",
    "# Unique labels and their mapping to integers for visualization\n",
    "unique_labels = np.unique(labels)\n",
    "label_to_int = {label: i for i, label in enumerate(unique_labels)}\n",
    "int_to_label = {i: label for label, i in label_to_int.items()}\n",
    "label_colors = [label_to_int[label] for label in labels]\n",
    "\n",
    "# Apply PCA with 3 components\n",
    "pca = PCA(n_components=3, random_state=42)\n",
    "reduced_embeddings_pca = pca.fit_transform(embeddings)\n",
    "\n",
    "# Plotting\n",
    "fig = go.Figure()\n",
    "\n",
    "# Add traces for each unique label\n",
    "for i, label in int_to_label.items():\n",
    "    indices = [j for j, x in enumerate(labels) if x == label]\n",
    "    fig.add_trace(go.Scatter3d(\n",
    "        x=reduced_embeddings_pca[indices, 0],\n",
    "        y=reduced_embeddings_pca[indices, 1],\n",
    "        z=reduced_embeddings_pca[indices, 2],\n",
    "        mode='markers',\n",
    "        name=label,\n",
    "        marker=dict(size=5),\n",
    "        text=[f\"Label: {label}\" for _ in indices]  # Hover text\n",
    "    ))\n",
    "\n",
    "# Update layout for a better look in 3D\n",
    "fig.update_layout(\n",
    "    title='3D PCA Reduced Embeddings Visualization',\n",
    "    scene=dict(\n",
    "        xaxis_title='PCA Component 1',\n",
    "        yaxis_title='PCA Component 2',\n",
    "        zaxis_title='PCA Component 3'\n",
    "    ),\n",
    "    legend_title='Labels'\n",
    ")\n",
    "\n",
    "# Save the figure in the working directory\n",
    "plotly_filename = \"3D PCA Reduced Embeddings with K-means Clustering.html\"\n",
    "plot(fig, filename=plotly_filename)\n",
    "\n",
    "# Show the figure\n",
    "fig.show()"
   ]
  },
  {
   "cell_type": "code",
   "execution_count": null,
   "id": "c647bdd6-5412-4ca1-907c-8f7447c1aa6e",
   "metadata": {},
   "outputs": [],
   "source": [
    "# Assuming embeddings_data is already defined and contains your embeddings and labels\n",
    "embeddings_list = [item['embedding'] for item in embeddings_data['data']]\n",
    "labels = [item['label'] for item in embeddings_data['data']]\n",
    "embeddings = np.array(embeddings_list)\n",
    "\n",
    "# Unique labels and their mapping to integers for visualization\n",
    "unique_labels = np.unique(labels)\n",
    "label_to_int = {label: i for i, label in enumerate(unique_labels)}\n",
    "int_to_label = {i: label for label, i in label_to_int.items()}\n",
    "label_colors = [label_to_int[label] for label in labels]\n",
    "\n",
    "# Apply PCA with 3 components\n",
    "pca = PCA(n_components=3, random_state=42)\n",
    "reduced_embeddings_pca = pca.fit_transform(embeddings)\n",
    "\n",
    "# Plotting\n",
    "fig = go.Figure()\n",
    "\n",
    "# Add traces for each unique label\n",
    "for i, label in int_to_label.items():\n",
    "    indices = [j for j, x in enumerate(labels) if x == label]\n",
    "    fig.add_trace(go.Scatter3d(\n",
    "        x=reduced_embeddings_pca[indices, 0],\n",
    "        y=reduced_embeddings_pca[indices, 1],\n",
    "        z=reduced_embeddings_pca[indices, 2],\n",
    "        mode='markers',\n",
    "        name=label,\n",
    "        marker=dict(size=5),\n",
    "        text=[f\"Label: {label}\" for _ in indices]  # Hover text\n",
    "    ))\n",
    "\n",
    "# Update layout for a better look in 3D\n",
    "fig.update_layout(\n",
    "    title='3D PCA Reduced Embeddings Visualization',\n",
    "    scene=dict(\n",
    "        xaxis_title='PCA Component 1',\n",
    "        yaxis_title='PCA Component 2',\n",
    "        zaxis_title='PCA Component 3'\n",
    "    ),\n",
    "    legend_title='Labels'\n",
    ")\n",
    "\n",
    "# Save the figure in the working directory\n",
    "plotly_filename = \"3D PCA Reduced Embeddings with K-means Clustering.html\"\n",
    "plot(fig, filename=plotly_filename)\n",
    "\n",
    "# Show the figure\n",
    "fig.show()"
   ]
  },
  {
   "cell_type": "code",
   "execution_count": null,
   "id": "f2187336-4955-4ab8-9274-05e9e6b9a837",
   "metadata": {},
   "outputs": [],
   "source": []
  },
  {
   "cell_type": "code",
   "execution_count": null,
   "id": "49f86828-679a-484a-8c4c-1a6ee5ad4826",
   "metadata": {},
   "outputs": [],
   "source": []
  },
  {
   "cell_type": "code",
   "execution_count": null,
   "id": "54463aeb-07d2-4a0a-8790-2022ca5da2cd",
   "metadata": {},
   "outputs": [],
   "source": []
  },
  {
   "cell_type": "code",
   "execution_count": null,
   "id": "e773daf4-b29c-48b9-8b6b-071d4e78f39e",
   "metadata": {},
   "outputs": [],
   "source": []
  },
  {
   "cell_type": "code",
   "execution_count": null,
   "id": "4b4eeebd-5717-4913-9bc4-e32eecffdf89",
   "metadata": {},
   "outputs": [],
   "source": []
  }
 ],
 "metadata": {
  "kernelspec": {
   "display_name": "Python 3 (ipykernel)",
   "language": "python",
   "name": "python3"
  },
  "language_info": {
   "codemirror_mode": {
    "name": "ipython",
    "version": 3
   },
   "file_extension": ".py",
   "mimetype": "text/x-python",
   "name": "python",
   "nbconvert_exporter": "python",
   "pygments_lexer": "ipython3",
   "version": "3.11.4"
  }
 },
 "nbformat": 4,
 "nbformat_minor": 5
}
